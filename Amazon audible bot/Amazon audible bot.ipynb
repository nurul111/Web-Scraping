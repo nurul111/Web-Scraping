{
 "cells": [
  {
   "cell_type": "code",
   "execution_count": 1,
   "id": "1fb3012b",
   "metadata": {},
   "outputs": [],
   "source": [
    "import pandas as pd\n",
    "from selenium import webdriver\n",
    "from selenium.webdriver.common.keys import Keys\n",
    "from selenium.webdriver.common.by import By\n",
    "from selenium.webdriver.support import expected_conditions as EC\n",
    "from selenium.webdriver.support.ui import WebDriverWait\n",
    "import time"
   ]
  },
  {
   "cell_type": "code",
   "execution_count": 2,
   "id": "4914272c",
   "metadata": {},
   "outputs": [],
   "source": [
    "options = webdriver.ChromeOptions()\n",
    "options.add_argument(\"--no-sandbox\")\n",
    "# options.add_argument(\"--headless\")\n",
    "# options.add_argument(\"--disable-gpu\")\n",
    "options.add_argument(\"--disable-dve-shm-usage\")"
   ]
  },
  {
   "cell_type": "code",
   "execution_count": 3,
   "id": "d86a85c4",
   "metadata": {},
   "outputs": [],
   "source": [
    "driver = webdriver.Chrome(options = options)"
   ]
  },
  {
   "cell_type": "code",
   "execution_count": 4,
   "id": "9970f58b",
   "metadata": {},
   "outputs": [],
   "source": [
    "driver.get(\"https://www.audible.com/search?feature_nine_browse-bin=18685523011&feature_seven_browse-bin=18685631011&feature_six_browse-bin=18685580011&feature_twelve_browse-bin=18685552011&node=18571910011&sort=review-rank&ref_pageloadid=aXLdaBFDjnf4XipQ&ref=a_search_l1_feature_nine_browse-bin_0&pf_rd_p=daf0f1c8-2865-4989-87fb-15115ba5a6d2&pf_rd_r=0S98EBFVSAG2YX7PSQD7&pageLoadId=o9VRB98aABdCDOuz&ref_plink=not_applicable&creativeId=9648f6bf-4f29-4fb4-9489-33163c0bb63e\")"
   ]
  },
  {
   "cell_type": "code",
   "execution_count": 5,
   "id": "e4c65744",
   "metadata": {},
   "outputs": [],
   "source": [
    "#pagination\n",
    "pagination = driver.find_element(By.XPATH,\"//ul[contains(@class,'pagingElements')]\")\n",
    "pages = pagination.find_elements(By.TAG_NAME,\"li\")\n",
    "last_page = int(pages[-2].text)\n",
    "\n",
    "book_title = []\n",
    "book_author = []\n",
    "book_length = []\n",
    "\n",
    "current_page = 1\n",
    "\n",
    "while current_page<=last_page:\n",
    "        #time.sleep(2)\n",
    "        container = WebDriverWait(driver,5).until(EC.presence_of_element_located((By.CLASS_NAME,\"adbl-impression-container\")))\n",
    "        #container = driver.find_element(By.CLASS_NAME,\"adbl-impression-container\")\n",
    "        products = WebDriverWait(driver,5).until(EC.presence_of_all_elements_located((By.XPATH,\".//li[contains(@class,'productListItem')]\")))\n",
    "        #products = container.find_elements(By.XPATH,\".//li[contains(@class,'productListItem')]\")\n",
    "        for product in products:\n",
    "            title = product.find_element(By.XPATH,\".//h3[contains(@class,'bc-heading')]\").text\n",
    "            book_title.append(title)\n",
    "            book_author.append(product.find_element(By.XPATH,\".//li[contains(@class,'authorLabel')]\").text)\n",
    "            book_length.append(product.find_element(By.XPATH,\".//li[contains(@class,'narratorLabel')]\").text)\n",
    "        current_page = current_page+1\n",
    "        try:\n",
    "            next_page  = driver.find_element(By.XPATH,\"//span[contains(@class,'nextButton')]\")\n",
    "            next_page.click()\n",
    "        except:\n",
    "            print(\"not found\")\n",
    "            pass"
   ]
  },
  {
   "cell_type": "code",
   "execution_count": 6,
   "id": "86ff8802",
   "metadata": {},
   "outputs": [],
   "source": [
    "df = pd.DataFrame({\"Book Title\":book_title,\"Book Author\":book_author,\"Book Length\":book_length})\n",
    "df\n",
    "df.to_csv(\"audible Book.csv\")"
   ]
  },
  {
   "cell_type": "code",
   "execution_count": null,
   "id": "a720a9b3",
   "metadata": {},
   "outputs": [],
   "source": []
  }
 ],
 "metadata": {
  "kernelspec": {
   "display_name": "Python 3 (ipykernel)",
   "language": "python",
   "name": "python3"
  },
  "language_info": {
   "codemirror_mode": {
    "name": "ipython",
    "version": 3
   },
   "file_extension": ".py",
   "mimetype": "text/x-python",
   "name": "python",
   "nbconvert_exporter": "python",
   "pygments_lexer": "ipython3",
   "version": "3.11.4"
  }
 },
 "nbformat": 4,
 "nbformat_minor": 5
}
