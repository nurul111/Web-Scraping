{
 "cells": [
  {
   "cell_type": "code",
   "execution_count": 1,
   "id": "178dca0f",
   "metadata": {},
   "outputs": [],
   "source": [
    "from bs4 import BeautifulSoup\n",
    "import requests\n",
    "import pandas as pd\n",
    "import time    "
   ]
  },
  {
   "cell_type": "code",
   "execution_count": 30,
   "id": "6b351b9d",
   "metadata": {},
   "outputs": [],
   "source": [
    "def find_jobs():    \n",
    "        print('put some skill that you are not familiar with')\n",
    "        unfamiliar_skill = input('>')\n",
    "        print(f\"filtering out {unfamiliar_skill}\")\n",
    "\n",
    "        print(' ')\n",
    "        html_text = requests.get(\"https://www.timesjobs.com/candidate/job-search.html?searchType=personalizedSearch&from=submit&txtKeywords=Python&txtLocation=\")\n",
    "        soup = BeautifulSoup(html_text.text,'lxml')\n",
    "        #print(soup.prettify())\n",
    "        jobs = soup.find_all('li',class_='clearfix job-bx wht-shd-bx')\n",
    "        #print(jobs)\n",
    "\n",
    "        for index,job in enumerate(jobs):\n",
    "                published_date = job.find('span',class_=\"sim-posted\").text\n",
    "                #if 'few' in published_date:\n",
    "                company_name = job.find('h3',class_= 'joblist-comp-name').text\n",
    "                #print(company_name)\n",
    "                skills = job.find('span',class_='srp-skills').text\n",
    "                #print(skills,'*******')\n",
    "                more_info = job.header.h2.a['href']\n",
    "                if unfamiliar_skill not in skills:\n",
    "                    with open(f'job list {index}.txt','w') as f:\n",
    "                        f.write(f\"Company name:{company_name.strip()}\\n\") \n",
    "                        f.write(f\"skills:{skills.strip()}\\n\")\n",
    "                        f.write(f\"published_date:{published_date.strip()}\\n\")\n",
    "                        f.write(f\"more info:{more_info}\\n\")\n",
    "\n",
    "                    print(f'file save:{index}')\n",
    "        \n",
    "        "
   ]
  },
  {
   "cell_type": "code",
   "execution_count": null,
   "id": "44d6bedf",
   "metadata": {},
   "outputs": [
    {
     "name": "stdout",
     "output_type": "stream",
     "text": [
      "put some skill that you are not familiar with\n",
      ">python\n",
      "filtering out python\n",
      " \n",
      "file save:1\n",
      "file save:14\n",
      "waiting 10 seconds...\n",
      "put some skill that you are not familiar with\n"
     ]
    }
   ],
   "source": [
    "#if __name__ == '__main__':\n",
    "while True:\n",
    "        find_jobs()\n",
    "        time_wait = 10\n",
    "        print(f\"waiting {time_wait} seconds...\")\n",
    "        time.sleep(time_wait)"
   ]
  },
  {
   "cell_type": "code",
   "execution_count": null,
   "id": "e82f6f1e",
   "metadata": {},
   "outputs": [],
   "source": []
  }
 ],
 "metadata": {
  "kernelspec": {
   "display_name": "Python 3 (ipykernel)",
   "language": "python",
   "name": "python3"
  },
  "language_info": {
   "codemirror_mode": {
    "name": "ipython",
    "version": 3
   },
   "file_extension": ".py",
   "mimetype": "text/x-python",
   "name": "python",
   "nbconvert_exporter": "python",
   "pygments_lexer": "ipython3",
   "version": "3.9.13"
  }
 },
 "nbformat": 4,
 "nbformat_minor": 5
}
