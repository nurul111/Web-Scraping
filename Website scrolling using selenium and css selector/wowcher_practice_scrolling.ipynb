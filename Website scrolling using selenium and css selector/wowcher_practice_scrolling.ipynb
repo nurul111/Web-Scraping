{
 "cells": [
  {
   "cell_type": "code",
   "execution_count": 1,
   "id": "b07c6978",
   "metadata": {},
   "outputs": [],
   "source": [
    "import pandas as pd\n",
    "from selenium import webdriver\n",
    "from selenium.webdriver.common.keys import Keys\n",
    "from selenium.webdriver.common.by import By\n",
    "import time\n",
    "from selenium.webdriver.support.ui import WebDriverWait\n",
    "from selenium.webdriver.support import expected_conditions as EC"
   ]
  },
  {
   "cell_type": "code",
   "execution_count": 2,
   "id": "0e75bc86",
   "metadata": {},
   "outputs": [],
   "source": [
    "options = webdriver.ChromeOptions()\n",
    "options.add_argument(\"--no-sandbox\")\n",
    "# options.add_argument(\"--headless\")\n",
    "# options.add_argument(\"--disable-gpu\")\n",
    "options.add_argument(\"--disable-dve-shm-usage\")"
   ]
  },
  {
   "cell_type": "code",
   "execution_count": 3,
   "id": "51f41ec8",
   "metadata": {},
   "outputs": [],
   "source": [
    "driver = webdriver.Chrome(options = options)"
   ]
  },
  {
   "cell_type": "code",
   "execution_count": 16,
   "id": "158131c3",
   "metadata": {},
   "outputs": [],
   "source": [
    "def wowcher_page(url):\n",
    "    driver.get(url)\n",
    "    time.sleep(3)\n",
    "    box = driver.find_element(By.CSS_SELECTOR,'div.deal-main-deal__card')\n",
    "#     try:\n",
    "#         title = driver.find_element(By.CSS_SELECTOR,'div[class*=\"deal__header\"]>h1[class*=\"deal__title\"]').text\n",
    "#         subtitle = driver.find_element(By.CSS_SELECTOR,'div[class*=\"deal__header\"]>p[class*=\"deal__subtitle\"]').text\n",
    "#     except:\n",
    "    title = driver.find_element(By.CSS_SELECTOR,'div.deal-main-deal__about  h1').text\n",
    "    subtitle = driver.find_element(By.CSS_SELECTOR,'div.deal-main-deal__about p.deal-main-deal__subtitle').text\n",
    "    \n",
    "    #price now\n",
    "    #price_now = driver.find_element(By.CSS_SELECTOR,\"div[class*='splat full splat--price splat--visible'] p[class*='splat__price']\").text\n",
    "    price_now = driver.find_element(By.CSS_SELECTOR,'div.splat--price.splat--visible p.splat__price').text\n",
    "    try:\n",
    "        #price before\n",
    "        #price_before = box.find_element(By.CSS_SELECTOR,\"div[class*='splat full splat--price splat--visible'] p[class*='splat__original-price\").text\n",
    "        price_before = box.find_element(By.CSS_SELECTOR,'div.splat--price.splat--visible p.splat__original-price').text\n",
    "    except:\n",
    "        price_before = \"Nan\"\n",
    "        pass\n",
    "\n",
    "    #unitsold \n",
    "    try:\n",
    "         unitsold = driver.find_element(By.CSS_SELECTOR,\"div.deal-main-deal__actions p.deal-main-deal__bought span.deal-main-deal__bought-number\").text\n",
    "    except:\n",
    "        unitsold='Nan'\n",
    "        pass\n",
    "    #unitsold = driver.find_element(By.CSS_SELECTOR,\"div.deal-main-deal__actions p.deal-main-deal__bought span.deal-main-deal__bought-number\").text\n",
    "    # brought by\n",
    "    #brought_by = box.find_element(By.CSS_SELECTOR,\"div[class*='deal-main-deal__actions deal-main-deal__actions--notravel'] p[class*='vattext-wrapper']\").text\n",
    "    brought_by = driver.find_element(By.CSS_SELECTOR,'div.deal-main-deal__actions p.vattext-wrapper').text\n",
    "    dictionary = {\"Title\":title,\n",
    "                  \"Subtitle\":subtitle,\n",
    "                  \"Price Now\":price_now,\n",
    "                  \"Price Original\":price_before,\n",
    "                  \"Unitsold\":unitsold,\n",
    "                  \"Brought By\":brought_by,\n",
    "                  \"link\":url\n",
    "                 }\n",
    "    return dictionary"
   ]
  },
  {
   "cell_type": "code",
   "execution_count": 5,
   "id": "f0dd4796",
   "metadata": {},
   "outputs": [],
   "source": [
    "# url_input = input(\"Enter the URL: \")\n",
    "# print(wowcher_page(url_input))"
   ]
  },
  {
   "cell_type": "code",
   "execution_count": 6,
   "id": "30326ed4",
   "metadata": {},
   "outputs": [],
   "source": [
    "# last_height = driver.execute_script(\"return document.body.scrollHeight\")\n",
    "# #print(last_height)\n",
    "# while True:\n",
    "#     driver.execute_script(\"window.scrollTo(0, document.body.scrollHeight);\")\n",
    "#     time.sleep(2)\n",
    "#     new_height = driver.execute_script(\"return document.body.scrollHeight\")\n",
    "#     if new_height==last_height:\n",
    "#         break\n",
    "#     else:\n",
    "#         last_height=new_height"
   ]
  },
  {
   "cell_type": "code",
   "execution_count": 21,
   "id": "11120894",
   "metadata": {},
   "outputs": [],
   "source": [
    "driver.get('https://www.wowcher.co.uk/deals/travel')"
   ]
  },
  {
   "cell_type": "code",
   "execution_count": 24,
   "id": "80cc2d22",
   "metadata": {},
   "outputs": [
    {
     "data": {
      "text/plain": [
       "['https://www.wowcher.co.uk/deal/travel/30083309/4-copenhagen-christmas-market-flights',\n",
       " 'https://www.wowcher.co.uk/deal/travel/30226523/4-perth-hotel-stay-breakfast-2',\n",
       " 'https://www.wowcher.co.uk/deal/travel/30637197/lisbon-holiday-hotel-return-flights',\n",
       " 'https://www.wowcher.co.uk/deal/travel/29816773/colchester-hotel-stay-breakfast-2',\n",
       " 'https://www.wowcher.co.uk/deal/travel/30637131/4-krakow-stay-auschwitz-tour-flights',\n",
       " 'https://www.wowcher.co.uk/deal/travel/30623767/festive-bridgwater-stay-wine-2',\n",
       " 'https://www.wowcher.co.uk/deal/travel/30636649/marrakech-hotel-return-flights',\n",
       " 'https://www.wowcher.co.uk/deal/travel/30520137/4-westerwood-spa-stay-dinner-2',\n",
       " 'https://www.wowcher.co.uk/deal/travel/29968174/4-mercure-cardiff-breakfast-late-checkout-2',\n",
       " 'https://www.wowcher.co.uk/deal/travel/28013333/manchester-hotel-stay-prosecco-2',\n",
       " 'https://www.wowcher.co.uk/deal/travel/spas-country-house/country-house-hotels/e/kingston-country-courtyard',\n",
       " 'https://www.wowcher.co.uk/deal/travel/uk-city-breaks/theatre/e/wicked-musical-theatre-tickets-london-hotel',\n",
       " 'https://www.wowcher.co.uk/deal/travel/30624459/italian-multi-city-trip-flights',\n",
       " 'https://www.wowcher.co.uk/deal/travel/30649889/porto-holiday-hotel-return-flights',\n",
       " 'https://www.wowcher.co.uk/deal/travel/30649890/4-leonardo-cardiff-stay-breakfast-2',\n",
       " 'https://www.wowcher.co.uk/deal/travel/30649905/4-dartmoor-stay-dinner-breakfast-2',\n",
       " 'https://www.wowcher.co.uk/deal/travel/30649984/norfolk-stay-bottle-prosecco',\n",
       " 'https://www.wowcher.co.uk/deal/travel/30650077/bulgaria-break-sofia-hotel-flights']"
      ]
     },
     "execution_count": 24,
     "metadata": {},
     "output_type": "execute_result"
    }
   ],
   "source": [
    "\n",
    "urls = [x.get_attribute('href') for x in url_list]\n",
    "\n",
    "urls"
   ]
  },
  {
   "cell_type": "code",
   "execution_count": 26,
   "id": "b017f373",
   "metadata": {
    "scrolled": true
   },
   "outputs": [
    {
     "name": "stdout",
     "output_type": "stream",
     "text": [
      "https://www.wowcher.co.uk/deal/travel/30083309/4-copenhagen-christmas-market-flights\n",
      "{'Title': '4* Copenhagen Stay: Christmas Market & Return Flights', 'Subtitle': 'A Copenhagen, Denmark Christmas Market break with return flights from six airports with Travelolo. From £119pp for two nights, or upgrade your stay to three or four nights - save up to 22%', 'Price Now': '£129PP', 'Price Original': '£166', 'Unitsold': '15', 'Brought By': 'This deal is brought to you by Travelolo VAT number: GB174344994', 'link': 'https://www.wowcher.co.uk/deal/travel/30083309/4-copenhagen-christmas-market-flights'}\n",
      "https://www.wowcher.co.uk/deal/travel/30226523/4-perth-hotel-stay-breakfast-2\n",
      "{'Title': '4* Perth Stay: Breakfast & Two-Course Dining Upgrade for 2', 'Subtitle': 'A Perth stay at 4* Leonardo Boutique Huntingtower Hotel Perth for two people in a standard room with breakfast. From £79 for an overnight stay, from £119 to include a two-course dinner, and from £168 for a two-night stay - save up to 55%', 'Price Now': '£79', 'Price Original': '£177', 'Unitsold': '15', 'Brought By': 'This deal is brought to you by Leonardo Hotels VAT number: GB287154183', 'link': 'https://www.wowcher.co.uk/deal/travel/30226523/4-perth-hotel-stay-breakfast-2'}\n",
      "https://www.wowcher.co.uk/deal/travel/30637197/lisbon-holiday-hotel-return-flights\n",
      "{'Title': 'Lisbon City Break: Central Hotel Stay & Return Flights', 'Subtitle': 'A Lisbon, Portugal hotel stay with return flights from seven airports with Travelodeal – stay for two, three or four-nights - save up to 50%', 'Price Now': '£69PP', 'Price Original': '£139', 'Unitsold': 'Nan', 'Brought By': 'This deal is brought to you by Travelodeal Limited VAT number: GB340218245', 'link': 'https://www.wowcher.co.uk/deal/travel/30637197/lisbon-holiday-hotel-return-flights'}\n",
      "https://www.wowcher.co.uk/deal/travel/29816773/colchester-hotel-stay-breakfast-2\n",
      "{'Title': 'Dragonfly Colchester Hotel Stay & Breakfast For 2', 'Subtitle': 'A Colchester, Essex stay at Dragonfly Hotel Colchester for two people with breakfast. From £69 for one night, or from £109 for two nights - save up to 52%', 'Price Now': '£69', 'Price Original': '£144', 'Unitsold': '20', 'Brought By': 'This deal is brought to you by Dragonfly Hotels Colchester VAT number: GB101141983', 'link': 'https://www.wowcher.co.uk/deal/travel/29816773/colchester-hotel-stay-breakfast-2'}\n",
      "https://www.wowcher.co.uk/deal/travel/30637131/4-krakow-stay-auschwitz-tour-flights\n",
      "{'Title': '4* Krakow City Break – Hotel Stay, Flights & Auschwitz Tour', 'Subtitle': 'A Krakow, Poland 4* hotel stay with an Auschwitz tour and return flights from six airports with Weekender Breaks. Stay for two, three or four-nights and save 21%', 'Price Now': '£89PP', 'Price Original': '£113', 'Unitsold': '2', 'Brought By': 'This deal is brought to you by Weekender Breaks VAT number: GB996320881', 'link': 'https://www.wowcher.co.uk/deal/travel/30637131/4-krakow-stay-auschwitz-tour-flights'}\n",
      "https://www.wowcher.co.uk/deal/travel/30623767/festive-bridgwater-stay-wine-2\n",
      "{'Title': 'Festive Somerset Stay - Afternoon Tea & Mulled Wine for 2', 'Subtitle': 'A festive Somerset stay at ibis Bridgwater for two people in a classic double room with breakfast, a Festive Afternoon Tea, a welcome mulled wine each and late checkout. For £79 for an overnight stay, or for a two-night stay with an Afternoon Tea on one day of your stay for £109 - save up to 58%', 'Price Now': '£79', 'Price Original': '£186', 'Unitsold': 'Nan', 'Brought By': 'This deal is brought to you by Ibis Bridgewater VAT number: GB295195855', 'link': 'https://www.wowcher.co.uk/deal/travel/30623767/festive-bridgwater-stay-wine-2'}\n",
      "https://www.wowcher.co.uk/deal/travel/30636649/marrakech-hotel-return-flights\n",
      "{'Title': 'Marrakech: Breakfast, Central Location & Return Flights', 'Subtitle': 'A Marrakech, Morocco city break with breakfast and return flights from five airports with Prime Holidays. Stay for two, three or four nights and save up to 41%!', 'Price Now': '£69PP', 'Price Original': '£117', 'Unitsold': 'Nan', 'Brought By': 'This deal is brought to you by Prime Holidays', 'link': 'https://www.wowcher.co.uk/deal/travel/30636649/marrakech-hotel-return-flights'}\n",
      "https://www.wowcher.co.uk/deal/travel/30520137/4-westerwood-spa-stay-dinner-2\n",
      "{'Title': '4* Hilton Westerwood Spa Stay for 2: Dinner & Late Checkout - ELEMIS Treatment Upgrade!', 'Subtitle': 'A Cumbernauld, Glasgow stay at 4* DoubleTree by Hilton Glasgow Westerwood Spa & Golf Resort for two people with breakfast, dinner, health club access and late checkout. From £149 for an overnight stay or, include an ELEMIS spa treatment each from £219 or stay for two-nights and include a welcome drink from £339 - save up to 63%', 'Price Now': '£149', 'Price Original': '£405', 'Unitsold': '47', 'Brought By': 'This deal is brought to you by Q Hotels VAT number: GB809079119', 'link': 'https://www.wowcher.co.uk/deal/travel/30520137/4-westerwood-spa-stay-dinner-2'}\n",
      "https://www.wowcher.co.uk/deal/travel/29968174/4-mercure-cardiff-breakfast-late-checkout-2\n",
      "{'Title': '4* Mercure Cardiff Stay: Breakfast & Late Check-out for 2', 'Subtitle': 'A Cardiff, Wales stay at the 4* Mercure Cardiff Holland House Hotel & Spa for two in a Superior Room with a full English breakfast and 1pm late checkout. From £89 for an overnight stay - save up to 52%', 'Price Now': '£89', 'Price Original': '£187', 'Unitsold': '155', 'Brought By': 'This deal is brought to you by Mercure Cardiff Holland House Hotel and Spa VAT number: GB291795359', 'link': 'https://www.wowcher.co.uk/deal/travel/29968174/4-mercure-cardiff-breakfast-late-checkout-2'}\n",
      "https://www.wowcher.co.uk/deal/travel/28013333/manchester-hotel-stay-prosecco-2\n",
      "{'Title': 'Central Manchester Stay for 2: Prosecco, Chocs, Late Check Out', 'Subtitle': 'A Manchester stay at the Gardens Hotel Manchester for two people with breakfast, one bottle of Prosecco to share, one box of chocolates and 12pm late check out. From £65 for an overnight stay or £130 for a two-night stay - save up to 50%', 'Price Now': '£65', 'Price Original': '£129', 'Unitsold': '197', 'Brought By': 'This deal is brought to you by Gardens Hotel VAT number: GB430231215', 'link': 'https://www.wowcher.co.uk/deal/travel/28013333/manchester-hotel-stay-prosecco-2'}\n",
      "https://www.wowcher.co.uk/deal/travel/spas-country-house/country-house-hotels/e/kingston-country-courtyard\n",
      "{'Title': '4* Warwickshire Stay, Breakfast & Leisure Access for 2 - Dining Upgrade', 'Subtitle': 'A Warwickshire stay at the 4* Brandon Hall Hotel & Spa for two people in an Executive room with breakfast, leisure access and 12pm late check out. From £99 for an overnight stay, from £139 to include two-course dining, or from £249 for a two-night stay with dining on both nights - save up to 56%', 'Price Now': '£99', 'Price Original': '£225', 'Unitsold': '954', 'Brought By': 'This deal is brought to you by Brandon Hall Hotel & Spa VAT number: GB366947836', 'link': 'https://www.wowcher.co.uk/deal/travel/spas-country-house/country-house-hotels/e/kingston-country-courtyard'}\n",
      "https://www.wowcher.co.uk/deal/travel/uk-city-breaks/theatre/e/wicked-musical-theatre-tickets-london-hotel\n",
      "{'Title': '3* or 4* London Hotel Stay & Wicked The Musical Theatre Ticket', 'Subtitle': 'A London hotel stay and Wicked the Musical theatre ticket. From £99pp for one night, or from £159pp for two nights', 'Price Now': '£99PP', 'Price Original': 'Nan', 'Unitsold': '239', 'Brought By': 'This deal is brought to you by Just Book Sports VAT number: GB884747369', 'link': 'https://www.wowcher.co.uk/deal/travel/uk-city-breaks/theatre/e/wicked-musical-theatre-tickets-london-hotel'}\n",
      "https://www.wowcher.co.uk/deal/travel/30624459/italian-multi-city-trip-flights\n",
      "{'Title': 'Rome & Venice, Multi-City Holiday: Hotels, Transfers & Flights', 'Subtitle': 'A hotel stay in Rome and Venice with return flights from 5 airports. Stay for four or six nights – save up to 53%', 'Price Now': '£169PP', 'Price Original': 'Nan', 'Unitsold': 'Nan', 'Brought By': 'This deal is brought to you by Weekender Breaks VAT number: GB996320881', 'link': 'https://www.wowcher.co.uk/deal/travel/30624459/italian-multi-city-trip-flights'}\n",
      "https://www.wowcher.co.uk/deal/travel/30649889/porto-holiday-hotel-return-flights\n"
     ]
    },
    {
     "name": "stdout",
     "output_type": "stream",
     "text": [
      "{'Title': 'Porto City Break: Central Hotel Stay & Return Flights', 'Subtitle': 'A Porto, Portugal hotel stay with return flights from five airports with Prime Holidays. Stay for two, three, five or seven nights– save up to 47%.', 'Price Now': '£79PP', 'Price Original': 'Nan', 'Unitsold': 'Nan', 'Brought By': 'This deal is brought to you by Prime Holidays', 'link': 'https://www.wowcher.co.uk/deal/travel/30649889/porto-holiday-hotel-return-flights'}\n",
      "https://www.wowcher.co.uk/deal/travel/30649890/4-leonardo-cardiff-stay-breakfast-2\n",
      "{'Title': '4* Leonardo Hotel Cardiff Stay & Breakfast for 2 – Superior Room!', 'Subtitle': 'A Cardiff stay at the 4* Leonardo Hotel Cardiff for two people in a Superior King Room with breakfast. From £89 for an overnight stay, or from £184 for a two-night stay - save up to 41%', 'Price Now': '£89', 'Price Original': '£150', 'Unitsold': 'Nan', 'Brought By': 'This deal is brought to you by Leonardo Hotels VAT number: GB287154183', 'link': 'https://www.wowcher.co.uk/deal/travel/30649890/4-leonardo-cardiff-stay-breakfast-2'}\n",
      "https://www.wowcher.co.uk/deal/travel/30649905/4-dartmoor-stay-dinner-breakfast-2\n",
      "{'Title': '4* Dartmoor: Award Winning Hotel – 3-Course Dinner & Breakfast!', 'Subtitle': 'A Chagford, Dartmoor stay at 4* Mill End Hotel for two people with breakfast and a three-course dinner. From £149 for an overnight stay in a standard room, from £189 for a superior room or from £219 to stay in a suite – save up to 53%', 'Price Now': '£149', 'Price Original': '£320', 'Unitsold': 'Nan', 'Brought By': 'This deal is brought to you by Mill End Hotel', 'link': 'https://www.wowcher.co.uk/deal/travel/30649905/4-dartmoor-stay-dinner-breakfast-2'}\n",
      "https://www.wowcher.co.uk/deal/travel/30649984/norfolk-stay-bottle-prosecco\n",
      "{'Title': 'A Norfolk Stay at The Boathouse by Ormesby Broad - Bottle of Prosecco!', 'Subtitle': 'An Ormesby Broad stay at The Boathouse in Norfolk for two people with breakfast and a bottle of prosecco to share. From £89 for an overnight stay - save up to 41%', 'Price Now': '£89', 'Price Original': '£151', 'Unitsold': 'Nan', 'Brought By': 'This deal is brought to you by The Boathouse', 'link': 'https://www.wowcher.co.uk/deal/travel/30649984/norfolk-stay-bottle-prosecco'}\n",
      "https://www.wowcher.co.uk/deal/travel/30650077/bulgaria-break-sofia-hotel-flights\n",
      "{'Title': 'Bulgaria Break – Award Winning Sofia Hotels & Flights', 'Subtitle': 'A Sofia, Bulgaria hotel stay with return flights from three airports with Prime Holidays. Stay for two, three or four-nights and save up to 50%', 'Price Now': '£69PP', 'Price Original': '£138', 'Unitsold': 'Nan', 'Brought By': 'This deal is brought to you by Prime Holidays', 'link': 'https://www.wowcher.co.uk/deal/travel/30650077/bulgaria-break-sofia-hotel-flights'}\n"
     ]
    }
   ],
   "source": [
    "# url_list = WebDriverWait(driver, 5).until(EC.presence_of_all_elements_located((By.CSS_SELECTOR, 'div.jsx-2645251301 a.deal-info')))\n",
    "\n",
    "for i in urls:\n",
    "        url =i\n",
    "        print(url)\n",
    "        print(wowcher_page(url))\n",
    "#         time.sleep(4)\n",
    "    \n",
    "      \n",
    "      "
   ]
  },
  {
   "cell_type": "code",
   "execution_count": null,
   "id": "df8bc03d",
   "metadata": {},
   "outputs": [],
   "source": []
  },
  {
   "cell_type": "code",
   "execution_count": null,
   "id": "6cf6eca0",
   "metadata": {},
   "outputs": [],
   "source": []
  }
 ],
 "metadata": {
  "kernelspec": {
   "display_name": "Python 3 (ipykernel)",
   "language": "python",
   "name": "python3"
  },
  "language_info": {
   "codemirror_mode": {
    "name": "ipython",
    "version": 3
   },
   "file_extension": ".py",
   "mimetype": "text/x-python",
   "name": "python",
   "nbconvert_exporter": "python",
   "pygments_lexer": "ipython3",
   "version": "3.11.4"
  }
 },
 "nbformat": 4,
 "nbformat_minor": 5
}
