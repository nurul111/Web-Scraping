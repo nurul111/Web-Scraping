{
 "cells": [
  {
   "cell_type": "code",
   "execution_count": 1,
   "id": "b07c6978",
   "metadata": {},
   "outputs": [],
   "source": [
    "import pandas as pd\n",
    "from selenium import webdriver\n",
    "from selenium.webdriver.common.keys import Keys\n",
    "from selenium.webdriver.common.by import By\n",
    "import time\n",
    "from selenium.webdriver.support.ui import WebDriverWait\n",
    "from selenium.webdriver.support import expected_conditions as EC"
   ]
  },
  {
   "cell_type": "code",
   "execution_count": 2,
   "id": "0e75bc86",
   "metadata": {},
   "outputs": [],
   "source": [
    "options = webdriver.ChromeOptions()\n",
    "options.add_argument(\"--no-sandbox\")\n",
    "# options.add_argument(\"--headless\")\n",
    "# options.add_argument(\"--disable-gpu\")\n",
    "options.add_argument(\"--disable-dve-shm-usage\")"
   ]
  },
  {
   "cell_type": "code",
   "execution_count": 3,
   "id": "51f41ec8",
   "metadata": {},
   "outputs": [],
   "source": [
    "driver = webdriver.Chrome(options = options)"
   ]
  },
  {
   "cell_type": "code",
   "execution_count": 4,
   "id": "158131c3",
   "metadata": {},
   "outputs": [],
   "source": [
    "def wowcher_page(url):\n",
    "    driver.get(url)\n",
    "    box = driver.find_element(By.CSS_SELECTOR,\"div[class*='deal-main-deal__card']\")\n",
    "    title = driver.find_element(By.CSS_SELECTOR,'div[class*=\"deal__header\"]>h1[class*=\"deal__title\"]').text\n",
    "    subtitle = driver.find_element(By.CSS_SELECTOR,'div[class*=\"deal__header\"]>p[class*=\"deal__subtitle\"]').text\n",
    "    \n",
    "    #price now\n",
    "    price_now = driver.find_element(By.CSS_SELECTOR,\"div[class*='splat full splat--price splat--visible'] p[class*='splat__price']\").text\n",
    "    try:\n",
    "        #price before\n",
    "        price_before = box.find_element(By.CSS_SELECTOR,\"div[class*='splat full splat--price splat--visible'] p[class*='splat__original-price\").text\n",
    "    except:\n",
    "        price_before = \"Nan\"\n",
    "        pass\n",
    "\n",
    "    #unitsold \n",
    "    unitsold = box.find_element(By.CSS_SELECTOR,\"span.jsx-3764202347.deal-main-deal__bought-number\").text\n",
    "    # brought by \n",
    "    #brought_by = box.find_element(By.CSS_SELECTOR,\"div[class*='deal-main-deal__actions deal-main-deal__actions--notravel'] p[class*='vattext-wrapper']\").text\n",
    "    brought_by = box.find_element(By.CSS_SELECTOR,\"div[class*='deal-main-deal__actions deal-main-deal__actions--notravel'] p[class*='vattext-wrapper']\").text\n",
    "    dictionary = {\"Title\":title,\n",
    "                  \"Subtitle\":subtitle,\n",
    "                  \"Price Now\":price_now,\n",
    "                  \"Price Original\":price_before,\n",
    "                  \"Unitsold\":unitsold,\n",
    "                  \"Brought By\":brought_by,\n",
    "                  \"link\":url\n",
    "                 }\n",
    "    return dictionary"
   ]
  },
  {
   "cell_type": "code",
   "execution_count": 5,
   "id": "eea1a36a",
   "metadata": {},
   "outputs": [
    {
     "name": "stdout",
     "output_type": "stream",
     "text": [
      "Enter the URL: https://www.wowcher.co.uk/deal/derby/30371778/gulliver-s-fright-fiesta-halloween-entry\n",
      "{'Title': \"Gulliver's Fright Fiesta Halloween Event & Theme Park Entry - 4 Locations!\", 'Subtitle': \"From £13 instead of £20 for entry to Gulliver's Fright Fiesta Halloween in Warrington, Milton Keynes, Rotherham or Matlock Bath - have a terrifyingly terrific time and save up to 35%\", 'Price Now': '£13', 'Price Original': '£20', 'Unitsold': '6064', 'Brought By': \"This deal is brought to you by Gulliver's VAT number: GB419740736\", 'link': 'https://www.wowcher.co.uk/deal/derby/30371778/gulliver-s-fright-fiesta-halloween-entry'}\n"
     ]
    }
   ],
   "source": [
    "url_input = input(\"Enter the URL: \")\n",
    "print(wowcher_page(url_input))\n",
    "\n"
   ]
  },
  {
   "cell_type": "code",
   "execution_count": null,
   "id": "b0c3aefd",
   "metadata": {},
   "outputs": [],
   "source": [
    "main deal = driver.find_element(By.CSS_SELECTOR,\"div.jsx-2645251301 div[class*='bottom-deals'] > div[class*='main-deal'] li[class*='slide selected'] a\").get_attribute('href')\n",
    "site deal =  driver.find_element(By.CSS_SELECTOR,\"div.jsx-2645251301 div[class*='bottom-deals'] > div[class*='main-deal'] li[class*='slide selected'] a\").get_attribute('href')\n",
    "medium deal =  driver.find_element(By.CSS_SELECTOR,\"div.jsx-2645251301 div[class*='bottom-deals'] > div[class*='main-deal'] li[class*='slide selected'] a\").get_attribute('href')"
   ]
  },
  {
   "cell_type": "code",
   "execution_count": null,
   "id": "becd8e97",
   "metadata": {},
   "outputs": [],
   "source": []
  }
 ],
 "metadata": {
  "kernelspec": {
   "display_name": "Python 3 (ipykernel)",
   "language": "python",
   "name": "python3"
  },
  "language_info": {
   "codemirror_mode": {
    "name": "ipython",
    "version": 3
   },
   "file_extension": ".py",
   "mimetype": "text/x-python",
   "name": "python",
   "nbconvert_exporter": "python",
   "pygments_lexer": "ipython3",
   "version": "3.11.4"
  }
 },
 "nbformat": 4,
 "nbformat_minor": 5
}
