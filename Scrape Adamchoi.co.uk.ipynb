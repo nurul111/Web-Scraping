{
  "cells": [
    {
      "cell_type": "code",
      "execution_count": null,
      "id": "44ded1cd",
      "metadata": {
        "id": "44ded1cd"
      },
      "outputs": [],
      "source": [
        "from selenium import webdriver\n",
        "from selenium.webdriver.common.keys import Keys\n",
        "from selenium.webdriver.common.by import By"
      ]
    },
    {
      "cell_type": "code",
      "execution_count": null,
      "id": "e81a2a9e",
      "metadata": {
        "id": "e81a2a9e",
        "outputId": "7af775eb-762d-4983-8b55-5d7145267f8d"
      },
      "outputs": [
        {
          "name": "stdout",
          "output_type": "stream",
          "text": [
            "4.14.0\n"
          ]
        }
      ],
      "source": [
        "import selenium\n",
        "print(selenium.__version__)"
      ]
    },
    {
      "cell_type": "code",
      "execution_count": null,
      "id": "80566c3b",
      "metadata": {
        "id": "80566c3b"
      },
      "outputs": [],
      "source": [
        "options = webdriver.ChromeOptions()\n",
        "options.add_argument(\"--no-sandbox\")\n",
        "# options.add_argument(\"--headless\")\n",
        "# options.add_argument(\"--disable-gpu\")\n",
        "options.add_argument(\"--disable-dve-shm-usage\")\n"
      ]
    },
    {
      "cell_type": "code",
      "execution_count": null,
      "id": "5f290ab9",
      "metadata": {
        "id": "5f290ab9"
      },
      "outputs": [],
      "source": [
        "driver = webdriver.Chrome(options = options)"
      ]
    },
    {
      "cell_type": "code",
      "execution_count": null,
      "id": "b4a3fe61",
      "metadata": {
        "id": "b4a3fe61"
      },
      "outputs": [],
      "source": [
        "driver.get(\"https://www.adamchoi.co.uk/corners/detailed\")"
      ]
    },
    {
      "cell_type": "code",
      "execution_count": null,
      "id": "5172f07a",
      "metadata": {
        "id": "5172f07a"
      },
      "outputs": [],
      "source": [
        "#Button Clicking\n",
        "button = driver.find_element(By.XPATH,'//label[@analytics-event=\"All matches\"]')\n",
        "button.click()"
      ]
    },
    {
      "cell_type": "code",
      "execution_count": null,
      "id": "4c6e5c6c",
      "metadata": {
        "id": "4c6e5c6c"
      },
      "outputs": [],
      "source": [
        "#Selecting elements within dropdown\n",
        "from selenium.webdriver.support.ui import Select\n",
        "import time\n",
        "dropdown = Select(driver.find_element(By.ID,\"country\"))\n",
        "dropdown.select_by_visible_text('Spain')\n",
        "time.sleep(3)"
      ]
    },
    {
      "cell_type": "code",
      "execution_count": null,
      "id": "88114ba8",
      "metadata": {
        "id": "88114ba8"
      },
      "outputs": [],
      "source": [
        "matches = driver.find_elements(By.TAG_NAME,'tr')"
      ]
    },
    {
      "cell_type": "code",
      "execution_count": null,
      "id": "2ad10e9b",
      "metadata": {
        "id": "2ad10e9b"
      },
      "outputs": [],
      "source": [
        "#Data Extract from table\n",
        "date = []\n",
        "home_team = []\n",
        "score = []\n",
        "away_team = []\n",
        "for match in matches:\n",
        "    date.append(match.find_element(By.XPATH,'./td[1]').text)\n",
        "    home_team.append(match.find_element(By.XPATH,'./td[2]').text)\n",
        "    score.append(match.find_element(By.XPATH,'./td[3]').text)\n",
        "    away_team.append(match.find_element(By.XPATH,'./td[4]').text)\n",
        "\n"
      ]
    },
    {
      "cell_type": "code",
      "execution_count": null,
      "id": "f4bd4b92",
      "metadata": {
        "id": "f4bd4b92",
        "outputId": "7aa25af7-9d57-4aa2-92b5-59e46c73c640"
      },
      "outputs": [
        {
          "name": "stdout",
          "output_type": "stream",
          "text": [
            "['Cadiz', 'Alaves', 'Getafe', 'Alaves', 'Vallecano', 'Alaves', 'Celta', 'Alaves', 'Alaves', 'Villarreal', 'Almeria', 'Almeria', 'Cadiz', 'Almeria', 'Villarreal', 'Almeria', 'Sevilla', 'Almeria', 'Ath Bilbao', 'Girona', 'Almeria', 'Ath Bilbao', 'Osasuna', 'Ath Bilbao', 'Mallorca', 'Ath Bilbao', 'Alaves', 'Ath Bilbao', 'Sociedad', 'Ath Bilbao', 'Barcelona', 'Ath Madrid', 'Betis', 'Vallecano', 'Valencia', 'Ath Madrid', 'Osasuna', 'Ath Madrid', 'Ath Madrid', 'Celta', 'Getafe', 'Barcelona', 'Villarreal', 'Osasuna', 'Barcelona', 'Barcelona', 'Mallorca', 'Barcelona', 'Granada', 'Barcelona', 'Villarreal', 'Betis', 'Ath Bilbao', 'Betis', 'Barcelona', 'Betis', 'Granada', 'Betis', 'Alaves', 'Getafe', 'Cadiz', 'Barcelona', 'Cadiz', 'Cadiz', 'Ath Bilbao', 'Betis', 'Cadiz', 'Ath Madrid', 'Cadiz', 'Valencia', 'Celta', 'Sociedad', 'Celta', 'Almeria', 'Celta', 'Barcelona', 'Celta', 'Las Palmas', 'Celta', 'Celta', 'Girona', 'Getafe', 'Girona', 'Getafe', 'Real Madrid', 'Getafe', 'Sociedad', 'Ath Bilbao', 'Getafe', 'Celta', 'Getafe', 'Mallorca', 'Sociedad', 'Girona', 'Sevilla', 'Girona', 'Granada', 'Girona', 'Villarreal', 'Girona', 'Cadiz', 'Girona', 'Girona', 'Ath Madrid', 'Granada', 'Granada', 'Sociedad', 'Granada', 'Las Palmas', 'Granada', 'Almeria', 'Granada', 'Osasuna', 'Granada', 'Las Palmas', 'Valencia', 'Las Palmas', 'Girona', 'Sevilla', 'Las Palmas', 'Real Madrid', 'Las Palmas', 'Villarreal', 'Las Palmas', 'Almeria', 'Las Palmas', 'Mallorca', 'Granada', 'Mallorca', 'Celta', 'Girona', 'Mallorca', 'Vallecano', 'Mallorca', 'Sociedad', 'Mallorca', 'Celta', 'Osasuna', 'Valencia', 'Osasuna', 'Getafe', 'Osasuna', 'Osasuna', 'Alaves', 'Real Madrid', 'Osasuna', 'Ath Bilbao', 'Almeria', 'Celta', 'Real Madrid', 'Real Madrid', 'Ath Madrid', 'Real Madrid', 'Girona', 'Real Madrid', 'Sevilla', 'Sevilla', 'Alaves', 'Sevilla', 'Sevilla', 'Osasuna', 'Sevilla', 'Barcelona', 'Sevilla', 'Sevilla', 'Sociedad', 'Sociedad', 'Las Palmas', 'Sociedad', 'Real Madrid', 'Sociedad', 'Valencia', 'Sociedad', 'Ath Madrid', 'Sociedad', 'Sevilla', 'Valencia', 'Valencia', 'Alaves', 'Valencia', 'Almeria', 'Valencia', 'Betis', 'Mallorca', 'Valencia', 'Almeria', 'Granada', 'Vallecano', 'Betis', 'Vallecano', 'Vallecano', 'Cadiz', 'Vallecano', 'Sevilla', 'Las Palmas', 'Villarreal', 'Mallorca', 'Villarreal', 'Cadiz', 'Villarreal', 'Vallecano', 'Villarreal', 'Getafe', 'Villarreal', 'Villarreal', 'Granada']\n"
          ]
        }
      ],
      "source": [
        "print(home_team)"
      ]
    },
    {
      "cell_type": "code",
      "execution_count": null,
      "id": "42caa511",
      "metadata": {
        "id": "42caa511"
      },
      "outputs": [],
      "source": [
        "# convert to dataframe\n",
        "import pandas as pd\n",
        "df = pd.DataFrame({\"Date\":date,\"Home Team\":home_team,\"Score\":score,\"Away Team\":away_team})\n",
        "df.to_csv(\"spanish league.csv\")"
      ]
    },
    {
      "cell_type": "code",
      "execution_count": null,
      "id": "3bb539ab",
      "metadata": {
        "id": "3bb539ab"
      },
      "outputs": [],
      "source": []
    }
  ],
  "metadata": {
    "kernelspec": {
      "display_name": "Python 3 (ipykernel)",
      "language": "python",
      "name": "python3"
    },
    "language_info": {
      "codemirror_mode": {
        "name": "ipython",
        "version": 3
      },
      "file_extension": ".py",
      "mimetype": "text/x-python",
      "name": "python",
      "nbconvert_exporter": "python",
      "pygments_lexer": "ipython3",
      "version": "3.11.4"
    },
    "colab": {
      "provenance": []
    }
  },
  "nbformat": 4,
  "nbformat_minor": 5
}
